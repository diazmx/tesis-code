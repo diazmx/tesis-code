{
 "cells": [
  {
   "cell_type": "markdown",
   "source": [
    "# EXP-S1-001\n",
    "## Date: 07-09-21\n",
    "### Author: Daniel Díaz\n",
    "\n",
    "---\n",
    "#### Summary\n",
    "Create a new graph with all data used in Karimi approach.\n",
    "\n",
    "---\n",
    "\n",
    "Table of contents\n",
    "1. Load libraries\n",
    "2. Load data\n",
    "3. Karimi Approach\n",
    "4. Build a new graph"
   ],
   "metadata": {}
  },
  {
   "cell_type": "markdown",
   "source": [
    "## Load libraries"
   ],
   "metadata": {}
  },
  {
   "cell_type": "code",
   "execution_count": 25,
   "source": [
    "import numpy as np\n",
    "import pandas as pd\n",
    "import matplotlib.pyplot as plt\n",
    "import networkx as nx\n",
    "from similarity import Similarity\n",
    "\n",
    "import pmtools2 as pm\n",
    "import kmodes\n",
    "%matplotlib inline"
   ],
   "outputs": [],
   "metadata": {}
  },
  {
   "cell_type": "markdown",
   "source": [
    "## Load data"
   ],
   "metadata": {}
  },
  {
   "cell_type": "code",
   "execution_count": 12,
   "source": [
    "url_data = 'data/train.csv'\n",
    "df_emp_access = pd.read_csv(url_data)\n",
    "attnames_list = list(df_emp_access.columns)\n",
    "print(\"Columns :\", attnames_list)"
   ],
   "outputs": [
    {
     "output_type": "stream",
     "name": "stdout",
     "text": [
      "Columns : ['ACTION', 'RESOURCE', 'MGR_ID', 'ROLE_ROLLUP_1', 'ROLE_ROLLUP_2', 'ROLE_DEPTNAME', 'ROLE_TITLE', 'ROLE_FAMILY_DESC', 'ROLE_FAMILY', 'ROLE_CODE']\n"
     ]
    }
   ],
   "metadata": {}
  },
  {
   "cell_type": "code",
   "execution_count": 13,
   "source": [
    "entries = df_emp_access.values.tolist()\n",
    "attidx_to_collcounter = pm.get_entries_freqs(entries)\n",
    "\n",
    "print('#Entries:', len(entries))\n",
    "print('#Users:', len(df_emp_access[attnames_list[2:]].drop_duplicates()))\n",
    "print()\n",
    "\n",
    "print('---Attributes---')\n",
    "for att_idx in range(len(attnames_list)):\n",
    "    print('Num values', attnames_list[att_idx], ':', len(attidx_to_collcounter[att_idx].keys()))\n",
    "num_resources = attnames_list[1]\n",
    "    \n",
    "print()\n",
    "df_pos_entries = df_emp_access[df_emp_access['ACTION']==1]\n",
    "df_neg_entries = df_emp_access[df_emp_access['ACTION']==0]\n",
    "print('Num positive entries:',len(df_pos_entries))\n",
    "print('Num negative entries:',len(df_neg_entries))"
   ],
   "outputs": [
    {
     "output_type": "stream",
     "name": "stdout",
     "text": [
      "#Entries: 32769\n",
      "#Users: 9561\n",
      "\n",
      "---Attributes---\n",
      "Num values ACTION : 2\n",
      "Num values RESOURCE : 7518\n",
      "Num values MGR_ID : 4243\n",
      "Num values ROLE_ROLLUP_1 : 128\n",
      "Num values ROLE_ROLLUP_2 : 177\n",
      "Num values ROLE_DEPTNAME : 449\n",
      "Num values ROLE_TITLE : 343\n",
      "Num values ROLE_FAMILY_DESC : 2358\n",
      "Num values ROLE_FAMILY : 67\n",
      "Num values ROLE_CODE : 343\n",
      "\n",
      "Num positive entries: 30872\n",
      "Num negative entries: 1897\n"
     ]
    }
   ],
   "metadata": {}
  },
  {
   "cell_type": "markdown",
   "source": [
    "## Karimi approach"
   ],
   "metadata": {}
  },
  {
   "cell_type": "markdown",
   "source": [
    "### Preprocessing"
   ],
   "metadata": {}
  },
  {
   "cell_type": "code",
   "execution_count": 14,
   "source": [
    "#A_V Resource distribution\n",
    "res_to_freq = (df_emp_access['RESOURCE'].value_counts()).to_dict()\n",
    "res_to_freq_lists = res_to_freq.items()\n",
    "x_list, y_list = zip(*res_to_freq_lists)\n",
    "plt.plot(y_list)\n",
    "plt.ylabel('Freq')\n",
    "plt.xlabel('Resource')\n",
    "plt.show()"
   ],
   "outputs": [
    {
     "output_type": "display_data",
     "data": {
      "image/png": "[encoded data removed]",
      "text/plain": [
       "<Figure size 432x288 with 1 Axes>"
      ]
     },
     "metadata": {
      "needs_background": "light"
     }
    }
   ],
   "metadata": {}
  },
  {
   "cell_type": "code",
   "execution_count": 16,
   "source": [
    "#B_I Filter resources\n",
    "\n",
    "#DO NOT CHANGE THIS CODE\n",
    "n1 = 0\n",
    "n2 = 69\n",
    "num_resources = 7518\n",
    "top_list = df_emp_access['RESOURCE'].value_counts()[:num_resources].index.tolist()\n",
    "#Filter the interval between n1 and n2\n",
    "top_list = top_list[n1:n2+1]\n",
    "print('#Filtered resources:', len(top_list))"
   ],
   "outputs": [
    {
     "output_type": "stream",
     "name": "stdout",
     "text": [
      "#Filtered resources: 70\n"
     ]
    }
   ],
   "metadata": {}
  },
  {
   "cell_type": "code",
   "execution_count": 17,
   "source": [
    "#B_II Remove useless attributes\n",
    "\n",
    "#DO NOT CHANGE THIS CODE\n",
    "attnames_list_ = [name for name in attnames_list]\n",
    "attnames_list_.remove('ACTION')\n",
    "attnames_list_.remove('MGR_ID')\n",
    "attnames_list_.remove('ROLE_FAMILY_DESC')\n",
    "\n",
    "print('Three attributes removed!')"
   ],
   "outputs": [
    {
     "output_type": "stream",
     "name": "stdout",
     "text": [
      "Three attributes removed!\n"
     ]
    }
   ],
   "metadata": {}
  },
  {
   "cell_type": "code",
   "execution_count": 18,
   "source": [
    "#B_II Data splitting\n",
    "\n",
    "#DO NOT CHANGE THIS CODE\n",
    "boolean_series = df_pos_entries.RESOURCE.isin(top_list)\n",
    "df_pos_entries_ = df_pos_entries[boolean_series]\n",
    "boolean_series = df_neg_entries.RESOURCE.isin(top_list)\n",
    "df_neg_entries_ = df_neg_entries[boolean_series]\n",
    "\n",
    "pos_entries = df_pos_entries_[attnames_list_].values.tolist()\n",
    "neg_entries = df_neg_entries_[attnames_list_].values.tolist()\n",
    "\n",
    "print('---Positive entries---')\n",
    "print('Total:',len(pos_entries))\n",
    "attidx_to_collcounter_pos = pm.get_entries_freqs(pos_entries)\n",
    "for att_idx in range(len(attnames_list_)):\n",
    "    print('Num values', attnames_list_[att_idx], ':', len(attidx_to_collcounter_pos[att_idx].keys()))\n",
    "\n",
    "print()\n",
    "print('---Negative entries---')\n",
    "print('Total:',len(neg_entries))\n",
    "attidx_to_collcounter_neg = pm.get_entries_freqs(neg_entries)\n",
    "for att_idx in range(len(attnames_list_)):\n",
    "    print('Num values', attnames_list_[att_idx], ':', len(attidx_to_collcounter_neg[att_idx].keys()))"
   ],
   "outputs": [
    {
     "output_type": "stream",
     "name": "stdout",
     "text": [
      "---Positive entries---\n",
      "Total: 9182\n",
      "Num values RESOURCE : 70\n",
      "Num values ROLE_ROLLUP_1 : 116\n",
      "Num values ROLE_ROLLUP_2 : 151\n",
      "Num values ROLE_DEPTNAME : 391\n",
      "Num values ROLE_TITLE : 295\n",
      "Num values ROLE_FAMILY : 63\n",
      "Num values ROLE_CODE : 295\n",
      "\n",
      "---Negative entries---\n",
      "Total: 478\n",
      "Num values RESOURCE : 67\n",
      "Num values ROLE_ROLLUP_1 : 57\n",
      "Num values ROLE_ROLLUP_2 : 77\n",
      "Num values ROLE_DEPTNAME : 155\n",
      "Num values ROLE_TITLE : 99\n",
      "Num values ROLE_FAMILY : 38\n",
      "Num values ROLE_CODE : 99\n"
     ]
    }
   ],
   "metadata": {}
  },
  {
   "cell_type": "markdown",
   "source": [
    "### Clustering"
   ],
   "metadata": {}
  },
  {
   "cell_type": "code",
   "execution_count": 19,
   "source": [
    "###Select the number of clusters###\n",
    "num_clusters = 40\n",
    "\n",
    "#DO NOT CHANGE THIS CODE\n",
    "seed = 29\n",
    "#Compute centroids and labels\n",
    "num_init = 5\n",
    "centroids = []\n",
    "kmodes_huang = kmodes.KModes(n_clusters=num_clusters, n_init=num_init, init='Huang', verbose=0, random_state=seed)\n",
    "cluster_labels = kmodes_huang.fit_predict(pos_entries)\n",
    "centroids = kmodes_huang.cluster_centroids_\n",
    "\n",
    "print('Ready!')    "
   ],
   "outputs": [
    {
     "output_type": "stream",
     "name": "stderr",
     "text": [
      "/home/daniel/anaconda3/envs/tesis_env/lib/python3.7/importlib/_bootstrap.py:219: RuntimeWarning: numpy.ufunc size changed, may indicate binary incompatibility. Expected 192 from C header, got 216 from PyObject\n",
      "  return f(*args, **kwds)\n"
     ]
    },
    {
     "output_type": "stream",
     "name": "stdout",
     "text": [
      "Ready!\n"
     ]
    }
   ],
   "metadata": {}
  },
  {
   "cell_type": "code",
   "execution_count": 20,
   "source": [
    "###Select the threshold###\n",
    "threshold = 0.35\n",
    "\n",
    "#DO NOT CHANGE THIS CODE\n",
    "policy = pm.create_policy(pos_entries, cluster_labels, centroids, num_clusters, threshold)\n",
    "\n",
    "print('WSC:', pm.compute_wsc(policy))\n",
    "false_negs,_,precision,recall,fscore = pm.evaluate_policy(policy, pos_entries, neg_entries)\n",
    "print('Precision:',precision)\n",
    "print('Recall:',recall)\n",
    "print('F-score:',fscore)"
   ],
   "outputs": [
    {
     "output_type": "stream",
     "name": "stdout",
     "text": [
      "WSC: 141\n",
      "Precision: 0.9566380133715378\n",
      "Recall: 0.5454149422783707\n",
      "F-score: 0.6947353818408823\n"
     ]
    }
   ],
   "metadata": {}
  },
  {
   "cell_type": "markdown",
   "source": [
    "## Graph approach"
   ],
   "metadata": {}
  },
  {
   "cell_type": "markdown",
   "source": [
    "### Preprocessing"
   ],
   "metadata": {}
  },
  {
   "cell_type": "code",
   "execution_count": 21,
   "source": [
    "#A_V Resource distribution\n",
    "res_to_freq = (df_emp_access['RESOURCE'].value_counts()).to_dict()\n",
    "res_to_freq_lists = res_to_freq.items()\n",
    "x_list, y_list = zip(*res_to_freq_lists)\n",
    "plt.plot(y_list)\n",
    "plt.ylabel('Freq')\n",
    "plt.xlabel('Resource')\n",
    "plt.show()"
   ],
   "outputs": [
    {
     "output_type": "display_data",
     "data": {
      "image/png": "[encoded data removed]",
      "text/plain": [
       "<Figure size 432x288 with 1 Axes>"
      ]
     },
     "metadata": {
      "needs_background": "light"
     }
    }
   ],
   "metadata": {}
  },
  {
   "cell_type": "code",
   "execution_count": 22,
   "source": [
    "#B_I Filter resources\n",
    "\n",
    "#DO NOT CHANGE THIS CODE\n",
    "n1 = 0\n",
    "n2 = 69\n",
    "num_resources = 7518\n",
    "top_list = df_emp_access['RESOURCE'].value_counts()[:num_resources].index.tolist()\n",
    "#Filter the interval between n1 and n2\n",
    "top_list = top_list[n1:n2+1]\n",
    "print('#Filtered resources:', len(top_list))"
   ],
   "outputs": [
    {
     "output_type": "stream",
     "name": "stdout",
     "text": [
      "#Filtered resources: 70\n"
     ]
    }
   ],
   "metadata": {}
  },
  {
   "cell_type": "code",
   "execution_count": 23,
   "source": [
    "#B_II Remove useless attributes\n",
    "\n",
    "#DO NOT CHANGE THIS CODE\n",
    "attnames_list_ = [name for name in attnames_list]\n",
    "attnames_list_.remove('ACTION')\n",
    "attnames_list_.remove('MGR_ID')\n",
    "attnames_list_.remove('ROLE_FAMILY_DESC')\n",
    "\n",
    "print('Three attributes removed!')"
   ],
   "outputs": [
    {
     "output_type": "stream",
     "name": "stdout",
     "text": [
      "Three attributes removed!\n"
     ]
    }
   ],
   "metadata": {}
  },
  {
   "cell_type": "code",
   "execution_count": 24,
   "source": [
    "#B_II Data splitting\n",
    "\n",
    "#DO NOT CHANGE THIS CODE\n",
    "boolean_series = df_pos_entries.RESOURCE.isin(top_list)\n",
    "df_pos_entries_ = df_pos_entries[boolean_series]\n",
    "boolean_series = df_neg_entries.RESOURCE.isin(top_list)\n",
    "df_neg_entries_ = df_neg_entries[boolean_series]\n",
    "\n",
    "pos_entries = df_pos_entries_[attnames_list_].values.tolist()\n",
    "neg_entries = df_neg_entries_[attnames_list_].values.tolist()\n",
    "\n",
    "print('---Positive entries---')\n",
    "print('Total:',len(pos_entries))\n",
    "attidx_to_collcounter_pos = pm.get_entries_freqs(pos_entries)\n",
    "for att_idx in range(len(attnames_list_)):\n",
    "    print('Num values', attnames_list_[att_idx], ':', len(attidx_to_collcounter_pos[att_idx].keys()))\n",
    "\n",
    "print()\n",
    "print('---Negative entries---')\n",
    "print('Total:',len(neg_entries))\n",
    "attidx_to_collcounter_neg = pm.get_entries_freqs(neg_entries)\n",
    "for att_idx in range(len(attnames_list_)):\n",
    "    print('Num values', attnames_list_[att_idx], ':', len(attidx_to_collcounter_neg[att_idx].keys()))"
   ],
   "outputs": [
    {
     "output_type": "stream",
     "name": "stdout",
     "text": [
      "---Positive entries---\n",
      "Total: 9182\n",
      "Num values RESOURCE : 70\n",
      "Num values ROLE_ROLLUP_1 : 116\n",
      "Num values ROLE_ROLLUP_2 : 151\n",
      "Num values ROLE_DEPTNAME : 391\n",
      "Num values ROLE_TITLE : 295\n",
      "Num values ROLE_FAMILY : 63\n",
      "Num values ROLE_CODE : 295\n",
      "\n",
      "---Negative entries---\n",
      "Total: 478\n",
      "Num values RESOURCE : 67\n",
      "Num values ROLE_ROLLUP_1 : 57\n",
      "Num values ROLE_ROLLUP_2 : 77\n",
      "Num values ROLE_DEPTNAME : 155\n",
      "Num values ROLE_TITLE : 99\n",
      "Num values ROLE_FAMILY : 38\n",
      "Num values ROLE_CODE : 99\n"
     ]
    }
   ],
   "metadata": {}
  },
  {
   "cell_type": "markdown",
   "source": [
    "### Build the graph"
   ],
   "metadata": {}
  },
  {
   "cell_type": "code",
   "execution_count": 43,
   "source": [
    "# Similarity configuration\n",
    "df_pos_entries_new = df_pos_entries_[attnames_list_]\n",
    "#df_pos_entries_new = df_pos_entries_new.sample(n=250)\n",
    "# Umbral\n",
    "umbral = 0.2\n",
    "# Calcular matriz de distancias\n",
    "cal_mat_dist = False\n",
    "# Generar archivo\n",
    "cal_file = False\n",
    "df_pos_entries_new"
   ],
   "outputs": [
    {
     "output_type": "execute_result",
     "data": {
      "text/html": [
       "<div>\n",
       "<style scoped>\n",
       "    .dataframe tbody tr th:only-of-type {\n",
       "        vertical-align: middle;\n",
       "    }\n",
       "\n",
       "    .dataframe tbody tr th {\n",
       "        vertical-align: top;\n",
       "    }\n",
       "\n",
       "    .dataframe thead th {\n",
       "        text-align: right;\n",
       "    }\n",
       "</style>\n",
       "<table border=\"1\" class=\"dataframe\">\n",
       "  <thead>\n",
       "    <tr style=\"text-align: right;\">\n",
       "      <th></th>\n",
       "      <th>RESOURCE</th>\n",
       "      <th>ROLE_ROLLUP_1</th>\n",
       "      <th>ROLE_ROLLUP_2</th>\n",
       "      <th>ROLE_DEPTNAME</th>\n",
       "      <th>ROLE_TITLE</th>\n",
       "      <th>ROLE_FAMILY</th>\n",
       "      <th>ROLE_CODE</th>\n",
       "    </tr>\n",
       "  </thead>\n",
       "  <tbody>\n",
       "    <tr>\n",
       "      <th>6</th>\n",
       "      <td>25993</td>\n",
       "      <td>117961</td>\n",
       "      <td>118343</td>\n",
       "      <td>123476</td>\n",
       "      <td>118980</td>\n",
       "      <td>118295</td>\n",
       "      <td>118982</td>\n",
       "    </tr>\n",
       "    <tr>\n",
       "      <th>10</th>\n",
       "      <td>4675</td>\n",
       "      <td>117961</td>\n",
       "      <td>118413</td>\n",
       "      <td>118481</td>\n",
       "      <td>118784</td>\n",
       "      <td>290919</td>\n",
       "      <td>118786</td>\n",
       "    </tr>\n",
       "    <tr>\n",
       "      <th>13</th>\n",
       "      <td>4675</td>\n",
       "      <td>91261</td>\n",
       "      <td>118026</td>\n",
       "      <td>118202</td>\n",
       "      <td>119962</td>\n",
       "      <td>118205</td>\n",
       "      <td>119964</td>\n",
       "    </tr>\n",
       "    <tr>\n",
       "      <th>23</th>\n",
       "      <td>1020</td>\n",
       "      <td>117961</td>\n",
       "      <td>118300</td>\n",
       "      <td>120410</td>\n",
       "      <td>118321</td>\n",
       "      <td>290919</td>\n",
       "      <td>118322</td>\n",
       "    </tr>\n",
       "    <tr>\n",
       "      <th>24</th>\n",
       "      <td>4675</td>\n",
       "      <td>117961</td>\n",
       "      <td>118052</td>\n",
       "      <td>118867</td>\n",
       "      <td>118259</td>\n",
       "      <td>290919</td>\n",
       "      <td>118261</td>\n",
       "    </tr>\n",
       "    <tr>\n",
       "      <th>...</th>\n",
       "      <td>...</td>\n",
       "      <td>...</td>\n",
       "      <td>...</td>\n",
       "      <td>...</td>\n",
       "      <td>...</td>\n",
       "      <td>...</td>\n",
       "      <td>...</td>\n",
       "    </tr>\n",
       "    <tr>\n",
       "      <th>32755</th>\n",
       "      <td>42085</td>\n",
       "      <td>117961</td>\n",
       "      <td>118052</td>\n",
       "      <td>118821</td>\n",
       "      <td>117905</td>\n",
       "      <td>290919</td>\n",
       "      <td>117908</td>\n",
       "    </tr>\n",
       "    <tr>\n",
       "      <th>32760</th>\n",
       "      <td>17308</td>\n",
       "      <td>117961</td>\n",
       "      <td>118225</td>\n",
       "      <td>123173</td>\n",
       "      <td>119093</td>\n",
       "      <td>119095</td>\n",
       "      <td>119096</td>\n",
       "    </tr>\n",
       "    <tr>\n",
       "      <th>32764</th>\n",
       "      <td>23497</td>\n",
       "      <td>117961</td>\n",
       "      <td>118300</td>\n",
       "      <td>119993</td>\n",
       "      <td>118321</td>\n",
       "      <td>290919</td>\n",
       "      <td>118322</td>\n",
       "    </tr>\n",
       "    <tr>\n",
       "      <th>32766</th>\n",
       "      <td>34924</td>\n",
       "      <td>117961</td>\n",
       "      <td>118327</td>\n",
       "      <td>120299</td>\n",
       "      <td>124922</td>\n",
       "      <td>118612</td>\n",
       "      <td>124924</td>\n",
       "    </tr>\n",
       "    <tr>\n",
       "      <th>32768</th>\n",
       "      <td>14354</td>\n",
       "      <td>117916</td>\n",
       "      <td>118150</td>\n",
       "      <td>117920</td>\n",
       "      <td>118568</td>\n",
       "      <td>19721</td>\n",
       "      <td>118570</td>\n",
       "    </tr>\n",
       "  </tbody>\n",
       "</table>\n",
       "<p>9182 rows × 7 columns</p>\n",
       "</div>"
      ],
      "text/plain": [
       "       RESOURCE  ROLE_ROLLUP_1  ROLE_ROLLUP_2  ROLE_DEPTNAME  ROLE_TITLE  \\\n",
       "6         25993         117961         118343         123476      118980   \n",
       "10         4675         117961         118413         118481      118784   \n",
       "13         4675          91261         118026         118202      119962   \n",
       "23         1020         117961         118300         120410      118321   \n",
       "24         4675         117961         118052         118867      118259   \n",
       "...         ...            ...            ...            ...         ...   \n",
       "32755     42085         117961         118052         118821      117905   \n",
       "32760     17308         117961         118225         123173      119093   \n",
       "32764     23497         117961         118300         119993      118321   \n",
       "32766     34924         117961         118327         120299      124922   \n",
       "32768     14354         117916         118150         117920      118568   \n",
       "\n",
       "       ROLE_FAMILY  ROLE_CODE  \n",
       "6           118295     118982  \n",
       "10          290919     118786  \n",
       "13          118205     119964  \n",
       "23          290919     118322  \n",
       "24          290919     118261  \n",
       "...            ...        ...  \n",
       "32755       290919     117908  \n",
       "32760       119095     119096  \n",
       "32764       290919     118322  \n",
       "32766       118612     124924  \n",
       "32768        19721     118570  \n",
       "\n",
       "[9182 rows x 7 columns]"
      ]
     },
     "metadata": {},
     "execution_count": 43
    }
   ],
   "metadata": {}
  },
  {
   "cell_type": "code",
   "execution_count": 44,
   "source": [
    "# Create edges with overlap similarity\n",
    "lista_edges_o = Similarity.overlap_similarity(df_pos_entries_new, umbral, cal_mat_dist, cal_file)"
   ],
   "outputs": [
    {
     "output_type": "stream",
     "name": "stdout",
     "text": [
      "********************\n",
      "Iniciando construcción de aristas por OVERLAP\n"
     ]
    }
   ],
   "metadata": {}
  },
  {
   "cell_type": "code",
   "execution_count": 38,
   "source": [
    "weighted_edges = True\n",
    "def generate_graph_from_list(list_edges, weighted_=False):\n",
    "    G = nx.Graph()\n",
    "    if weighted_:\n",
    "        G.add_weighted_edges_from(list_edges)\n",
    "    else:\n",
    "        G.add_edges_from(list_edges)\n",
    "    print(\"#####*****#####\")\n",
    "    print(\"Grafo contruido!\")\n",
    "    return G\n",
    "\n",
    "\n",
    "G = generate_graph_from_list(lista_edges_o, weighted_edges)"
   ],
   "outputs": [
    {
     "output_type": "stream",
     "name": "stdout",
     "text": [
      "#####*****#####\n",
      "Grafo contruido!\n"
     ]
    }
   ],
   "metadata": {}
  },
  {
   "cell_type": "code",
   "execution_count": 39,
   "source": [
    "print(\"Vertices:\\t\",G.number_of_nodes())\n",
    "print(\"Aristas:\\t\",G.number_of_edges())\n",
    "# Grado promedio\n",
    "d = nx.degree(G)\n",
    "suma = 0\n",
    "for i,j in d:\n",
    "  #print(d[i])\n",
    "  suma += j\n",
    "print(\"Avg. Degree:\\t\", suma/len(d))\n",
    "#print(\"Diameter: \",nx.distance_measures.diameter(G))\n",
    "print(\"Avg. Cluster Coefficient: \", nx.algorithms.average_clustering(G))\n",
    "#print(\"Avg. Shortest Path: \",nx.average_shortest_path_length(G))\n",
    "print(\"Density: \", nx.density(G))\n",
    "print(\"Connected Component\", nx.components.number_connected_components(G))"
   ],
   "outputs": [
    {
     "output_type": "stream",
     "name": "stdout",
     "text": [
      "Vertices:\t 248\n",
      "Aristas:\t 4813\n",
      "Avg. Degree:\t 38.814516129032256\n",
      "Avg. Cluster Coefficient:  0.6776941103017393\n",
      "Density:  0.15714378999608203\n",
      "Connected Component 2\n"
     ]
    }
   ],
   "metadata": {}
  }
 ],
 "metadata": {
  "orig_nbformat": 4,
  "language_info": {
   "name": "python",
   "version": "3.7.11",
   "mimetype": "text/x-python",
   "codemirror_mode": {
    "name": "ipython",
    "version": 3
   },
   "pygments_lexer": "ipython3",
   "nbconvert_exporter": "python",
   "file_extension": ".py"
  },
  "kernelspec": {
   "name": "python3",
   "display_name": "Python 3.7  ('tesis_env': conda)"
  },
  "interpreter": {
   "hash": "60ff8f96990bfb2d43a0efadacc42f87fcfa19c1429055253ab6b8ba5cbcdfda"
  }
 },
 "nbformat": 4,
 "nbformat_minor": 2
}